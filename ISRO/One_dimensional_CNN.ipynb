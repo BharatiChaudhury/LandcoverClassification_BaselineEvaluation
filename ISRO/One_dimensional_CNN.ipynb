{
 "cells": [
  {
   "cell_type": "code",
   "execution_count": 1,
   "metadata": {
    "collapsed": true
   },
   "outputs": [],
   "source": [
    "import tensorflow as tf\n",
    "import numpy as np\n",
    "import pickle as pkl\n",
    "import random\n",
    "from Data_converter import convert_to_one_hot"
   ]
  },
  {
   "cell_type": "markdown",
   "metadata": {},
   "source": [
    "Initialize parameters of the system\n",
    "--------------------------"
   ]
  },
  {
   "cell_type": "code",
   "execution_count": 2,
   "metadata": {
    "collapsed": true
   },
   "outputs": [],
   "source": [
    "POOL_SIZE = 5\n",
    "INPUT_CHANNEL = 220\n",
    "OUTPUT_CLASSES = 16\n",
    "KERNEL_1 = 21\n",
    "FILTERS_1 = 20\n",
    "HIDDEN_LAYER_1 = 100"
   ]
  },
  {
   "cell_type": "markdown",
   "metadata": {},
   "source": [
    "Loading data\n",
    "----------"
   ]
  },
  {
   "cell_type": "code",
   "execution_count": 3,
   "metadata": {
    "collapsed": true
   },
   "outputs": [],
   "source": [
    "f = pkl.load(open('our_data.pkl','rb'))\n",
    "data = f['data']"
   ]
  },
  {
   "cell_type": "markdown",
   "metadata": {},
   "source": [
    "Make next_batch function\n",
    "---------------------"
   ]
  },
  {
   "cell_type": "code",
   "execution_count": 13,
   "metadata": {
    "collapsed": true
   },
   "outputs": [],
   "source": [
    "def batch(data,k):\n",
    "\tbatch = random.sample(data, k)\n",
    "\tinputs =[]\n",
    "\ttargets = []\n",
    "\tfor a,b in batch:\n",
    "\t\tinputs.append(a)\n",
    "\t\ttargets.append(b)\n",
    "# \ttargets = convert_to_one_hot(targets,OUTPUT_CLASSES)\n",
    "\treturn inputs, targets\n"
   ]
  },
  {
   "cell_type": "code",
   "execution_count": 6,
   "metadata": {
    "collapsed": true
   },
   "outputs": [],
   "source": [
    "x = tf.placeholder(\"float\",name='x',shape=([None,INPUT_CHANNEL,1,1]))\n",
    "y = tf.placeholder(\"float\",name='y',shape=([None,OUTPUT_CLASSES]))\n"
   ]
  },
  {
   "cell_type": "markdown",
   "metadata": {},
   "source": [
    "Defining layers for our network\n",
    "-----------------------"
   ]
  },
  {
   "cell_type": "code",
   "execution_count": 10,
   "metadata": {
    "collapsed": true
   },
   "outputs": [],
   "source": [
    "# \"\"\" define function \"\"\"\n",
    "# def weight_variable(shape):\n",
    "# \tinit = tf.truncated_normal(shape,stddev=1.0)\n",
    "# \treturn tf.Variable(init)\n",
    "\n",
    "# def bias_variable(shape):\n",
    "# \tinit = tf.constant(0.1,shape=shape)\n",
    "# \treturn tf.Variable(init)\n",
    "\n",
    "# def conv_2d(x,W):\n",
    "# \treturn tf.nn.conv2d(x,W,strides = [1,1,1,1], padding='VALID')\n",
    "\n",
    "# def max_pool_5x1(x):\n",
    "# \treturn tf.nn.max_pool(x,ksize=[1,POOL_SIZE,1,1],strides=[1,POOL_SIZE,1,1],padding='SAME') # check k-size\n"
   ]
  },
  {
   "cell_type": "markdown",
   "metadata": {},
   "source": [
    "Making the model\n",
    "----------"
   ]
  },
  {
   "cell_type": "markdown",
   "metadata": {},
   "source": [
    "__conv--ReLU--maxpool--fc__"
   ]
  },
  {
   "cell_type": "code",
   "execution_count": 11,
   "metadata": {
    "collapsed": false
   },
   "outputs": [],
   "source": [
    "def inference(input_data):\n",
    "    \n",
    "    with tf.variable_scope('h_conv1') as scope:\n",
    "        weights = tf.get_variable('weights', shape=[KERNEL_1,1,1,FILTERS_1], \n",
    "                                  initializer=tf.contrib.layers.xavier_initializer_conv2d())\n",
    "        biases = tf.get_variable('biases', shape=[FILTERS_1], initializer=tf.constant_initializer(0.05))\n",
    "    \n",
    "        z = tf.nn.conv2d(input_data, weights, strides=[1, 1, 1, 1], padding='VALID')\n",
    "        h_conv1 = tf.nn.relu(z+biases, name=scope.name)\n",
    "        \n",
    "    h_pool1 = tf.nn.max_pool(h_conv1, ksize=[1, POOL_SIZE, 1, 1],\n",
    "                        strides=[1, POOL_SIZE, 1, 1], padding='SAME', name='h_pool1')\n",
    "    \n",
    "    h_pool2_flat = tf.reshape(h_pool2, [-1, 40*1*20])\n",
    "    \n",
    "    with tf.variable_scope('h_fc') as scope:\n",
    "        weights = tf.get_variable('weights', shape=[HIDDEN_LAYER_1, OUTPUT_CLASSES], \n",
    "                                  initializer=tf.contrib.layers.xavier_initializer())\n",
    "        biases = tf.get_variable('biases', shape=[OUTPUT_CLASSES])\n",
    "        \n",
    "        logits = (tf.matmul(h_pool2_flat, weights) + biases)\n",
    "    return logits"
   ]
  },
  {
   "cell_type": "code",
   "execution_count": 14,
   "metadata": {
    "collapsed": true
   },
   "outputs": [],
   "source": [
    "def calc_loss(logits, labels):\n",
    "    \"\"\"Calculates the loss from the logits and the labels.\n",
    "    Args:\n",
    "        logits: Logits tensor, float - [batch_size, NUM_CLASSES].\n",
    "        labels: Labels tensor, int32 - [batch_size].\n",
    "    Returns:\n",
    "        loss: Loss tensor of type float.\n",
    "    \"\"\"\n",
    "    labels = tf.to_float(labels)\n",
    "    cross_entropy = tf.nn.softmax_cross_entropy_with_logits(logits, labels, name='xentropy')\n",
    "    loss = tf.reduce_mean(cross_entropy, name='xentropy_mean')\n",
    "    return loss"
   ]
  },
  {
   "cell_type": "code",
   "execution_count": 15,
   "metadata": {
    "collapsed": true
   },
   "outputs": [],
   "source": [
    "def training(loss, learning_rate=5e-4):\n",
    "    \"\"\"Sets up the training Ops.\n",
    "    Creates a summarizer to track the loss over time in TensorBoard.\n",
    "    Creates an optimizer and applies the gradients to all trainable variables.\n",
    "    The Op returned by this function is what must be passed to the\n",
    "    `sess.run()` call to cause the model to train.\n",
    "    Args:\n",
    "        loss: Loss tensor, from loss().\n",
    "        learning_rate: The learning rate to use for gradient descent.\n",
    "    Returns:\n",
    "        train_op: The Op for training.\n",
    "    \"\"\"\n",
    "    # Add a scalar summary for the snapshot loss.\n",
    "    tf.scalar_summary(loss.op.name, loss)\n",
    "    # Create the Adam optimizer with the given learning rate.\n",
    "    optimizer = tf.train.AdamOptimizer(learning_rate)\n",
    "    # Create a variable to track the global step.\n",
    "    global_step = tf.Variable(0, name='global_step', trainable=False)\n",
    "    # Use the optimizer to apply the gradients that minimize the loss\n",
    "    # (and also increment the global step counter) as a single training step.\n",
    "    train_op = optimizer.minimize(loss, global_step=global_step)\n",
    "    return train_op"
   ]
  },
  {
   "cell_type": "code",
   "execution_count": 17,
   "metadata": {
    "collapsed": true
   },
   "outputs": [],
   "source": [
    "# def evaluation(logits, labels, topk=1):\n",
    "#     \"\"\"Evaluate the quality of the logits at predicting the label.\n",
    "#     Args:\n",
    "#         logits: Logits tensor, float - [batch_size, NUM_CLASSES].\n",
    "#         labels: Labels tensor, int32 - [batch_size], with values in the\n",
    "#                   range [0, NUM_CLASSES).\n",
    "#         topk: the number k for 'top-k accuracy'\n",
    "#     Returns:\n",
    "#         A scalar int32 tensor with the number of examples (out of batch_size)\n",
    "#         that were predicted correctly.\n",
    "#     \"\"\"\n",
    "#     # For a classifier model, we can use the in_top_k Op.\n",
    "#     # It returns a bool tensor with shape [batch_size] that is true for\n",
    "#     # the examples where the label is in the top k (here k=1)\n",
    "#     # of all logits for that example.\n",
    "    \n",
    "#     correct = tf.nn.in_top_k(logits, tf.reshape(tf.slice(labels, [0,1], [int(labels.get_shape()[0]), 1]),[-1]), topk)\n",
    "#     # Return the number of true entries.\n",
    "#     return tf.reduce_sum(tf.cast(correct, tf.int32))"
   ]
  },
  {
   "cell_type": "code",
   "execution_count": 18,
   "metadata": {
    "collapsed": true
   },
   "outputs": [],
   "source": [
    "def placeholder_inputs(batch_size):\n",
    "    \"\"\"Generate placeholder variables to represent the input tensors.\n",
    "    \n",
    "    These placeholders are used as inputs by the rest of the model building\n",
    "    code and will be fed from the downloaded data in the .run() loop, below.\n",
    "    Args:\n",
    "        batch_size: The batch size will be baked into both placeholders.\n",
    "    Returns:\n",
    "        images_placeholder: Images placeholder.\n",
    "        labels_placeholder: Labels placeholder.\n",
    "    \"\"\"\n",
    "    # Note that the shapes of the placeholders match the shapes of the full\n",
    "    # image and label tensors, except the first dimension is now batch_size\n",
    "    # rather than the full size of the train or test data sets.\n",
    "    images_placeholder = tf.placeholder(tf.float32, shape=([None,INPUT_CHANNEL,1,1]))\n",
    "    labels_placeholder = tf.placeholder(tf.int32, shape=([None,OUTPUT_CLASSES]))\n",
    "    return images_placeholder, labels_placeholder"
   ]
  },
  {
   "cell_type": "code",
   "execution_count": 19,
   "metadata": {
    "collapsed": true
   },
   "outputs": [],
   "source": [
    "\n",
    "#UPDATE current_img_ind\n",
    "def fill_feed_dict(data_set, images_pl, labels_pl, current_img_ind, batch_size):\n",
    "    \"\"\"Fills the feed_dict for training the given step.\n",
    "    A feed_dict takes the form of:\n",
    "    feed_dict = {\n",
    "                  <placeholder>: <tensor of values to be passed for placeholder>,\n",
    "                  ....\n",
    "                }\n",
    "    Args:\n",
    "        data_set: The set of images and labels, from input_data.read_data_sets()\n",
    "        images_pl: The images placeholder, from placeholder_inputs().\n",
    "        labels_pl: The labels placeholder, from placeholder_inputs().\n",
    "        current_img_ind: The current position of the index in the dataset\n",
    "    Returns:\n",
    "        feed_dict: The feed dictionary mapping from placeholders to values.\n",
    "        current_img_ind: The updated position of the index in the dataset\n",
    "        data_set: updated data_set\n",
    "    \"\"\"\n",
    "    # Create the feed_dict for the placeholders filled with the next\n",
    "    # `batch size ` examples.\n",
    "    batch, current_img_ind, data_set= next_batch(batch_size, data_set, current_img_ind)\n",
    "\n",
    "    feed_dict = {\n",
    "      images_pl: batch[0],\n",
    "      labels_pl: batch[1]\n",
    "    }\n",
    "    return feed_dict, current_img_ind, data_set"
   ]
  },
  {
   "cell_type": "code",
   "execution_count": 20,
   "metadata": {
    "collapsed": true
   },
   "outputs": [],
   "source": [
    "def do_eval(sess, eval_correct, images_placeholder, labels_placeholder, data_set, batch_size):\n",
    "    \"\"\"Runs one evaluation against the full epoch of data.\n",
    "    Args:\n",
    "        sess: The session in which the model has been trained.\n",
    "        eval_correct: The Tensor that returns the number of correct predictions.\n",
    "        images_placeholder: The images placeholder.\n",
    "        labels_placeholder: The labels placeholder.\n",
    "        data_set: The set of images and labels to evaluate, from\n",
    "                input_data.read_data_sets().\n",
    "    \"\"\"\n",
    "    # And run one epoch of eval.\n",
    "    true_count = 0  # Counts the number of correct predictions.\n",
    "    steps_per_epoch = len(data_set) // batch_size\n",
    "    num_examples = steps_per_epoch * batch_size\n",
    "    current_img_ind = 0\n",
    "    for step in xrange(steps_per_epoch):\n",
    "        feed_dict, current_img_ind, data_set = fill_feed_dict(data_set, images_placeholder,\n",
    "                               labels_placeholder, current_img_ind, batch_size)\n",
    "        true_count += sess.run(eval_correct, feed_dict=feed_dict)\n",
    "    precision = true_count / num_examples\n",
    "    print('  Num examples: %d  Num correct: %d  Precision @ 1: %0.04f' %\n",
    "            (num_examples, true_count, precision))"
   ]
  },
  {
   "cell_type": "code",
   "execution_count": 2,
   "metadata": {
    "collapsed": true
   },
   "outputs": [],
   "source": [
    "def run_training():\n",
    "    \"\"\"Train for a number of steps.\"\"\"\n",
    "    # Tell TensorFlow that the model will be built into the default Graph.\n",
    "    train_data = data[:int(TRAINING_PROP*len(data))]\n",
    "    test_data = data[int(TRAINING_PROP*len(data)):]\n",
    "    train_data = train_data.reset_index(drop = True)\n",
    "    test_data = test_data.reset_index(drop = True)\n",
    "    \n",
    "    with tf.Graph().as_default():\n",
    "        # Generate placeholders for the images and labels.\n",
    "        images_placeholder, labels_placeholder = placeholder_inputs(BATCH_SIZE)\n",
    "\n",
    "        # Build a Graph that computes predictions from the inference model.\n",
    "        logits = inference(images_placeholder, 0.5, 512)\n",
    "\n",
    "        # Add to the Graph the Ops for loss calculation.\n",
    "        loss = calc_loss(logits, labels_placeholder)\n",
    "\n",
    "        # Add to the Graph the Ops that calculate and apply gradients.\n",
    "        train_op = training(loss, LEARNING_RATE)\n",
    "\n",
    "        # Add the Op to compare the logits to the labels during evaluation.\n",
    "        eval_correct = evaluation(logits, labels_placeholder)\n",
    "\n",
    "        # Build the summary operation based on the TF collection of Summaries.\n",
    "        #summary_op = tf.merge_all_summaries()\n",
    "\n",
    "        # Create a saver for writing training checkpoints.\n",
    "        saver = tf.train.Saver()\n",
    "\n",
    "        # Create a session for running Ops on the Graph.\n",
    "        sess = tf.Session()\n",
    "\n",
    "        # Run the Op to initialize the variables.\n",
    "        init = tf.initialize_all_variables()\n",
    "        sess.run(init)\n",
    "\n",
    "        # Instantiate a SummaryWriter to output summaries and the Graph.\n",
    "        #summary_writer = tf.train.SummaryWriter('../Data/', sess.graph)\n",
    "        current_img_ind = 0\n",
    "        # And then after everything is built, start the training loop.\n",
    "        for step in xrange(MAX_STEPS):\n",
    "            start_time = time.time()\n",
    "\n",
    "            # Fill a feed dictionary with the actual set of images and labels\n",
    "            # for this particular training step.\n",
    "            feed_dict, current_img_ind, train_data = fill_feed_dict(train_data,\n",
    "                                 images_placeholder,\n",
    "                                 labels_placeholder, current_img_ind=current_img_ind, \n",
    "                                                        batch_size=BATCH_SIZE)\n",
    "            \n",
    "\n",
    "            # Run one step of the model.  The return values are the activations\n",
    "            # from the `train_op` (which is discarded) and the `loss` Op.  To\n",
    "            # inspect the values of your Ops or variables, you may include them\n",
    "            # in the list passed to sess.run() and the value tensors will be\n",
    "            # returned in the tuple from the call.\n",
    "            _, loss_value = sess.run([train_op, loss],\n",
    "                               feed_dict=feed_dict)\n",
    "\n",
    "            duration = time.time() - start_time\n",
    "\n",
    "            # Write the summaries and print an overview fairly often.\n",
    "            if step % 5 == 0:\n",
    "                # Print status to stdout.\n",
    "                print('Step %d: loss = %.2f (%.3f sec)' % (step, loss_value, duration))\n",
    "                # Update the events file.\n",
    "                #summary_str = sess.run(summary_op, feed_dict=feed_dict)\n",
    "                #summary_writer.add_summary(summary_str, step)\n",
    "                #summary_writer.flush()\n",
    "\n",
    "            # Save a checkpoint and evaluate the model periodically.\n",
    "            if (step + 1) % (50) == 0 or (step + 1) == MAX_STEPS:\n",
    "                saver.save(sess, '../Data/model.ckpt')\n",
    "                # Evaluate against the training set.\n",
    "                print('Training Data Eval:')\n",
    "                do_eval(sess, eval_correct, images_placeholder, labels_placeholder, train_data, BATCH_SIZE)\n",
    "                # Evaluate against the validation set.\n",
    "                print('Validation Data Eval:')\n",
    "                do_eval(sess, eval_correct, images_placeholder, labels_placeholder, test_data, BATCH_SIZE)"
   ]
  },
  {
   "cell_type": "code",
   "execution_count": null,
   "metadata": {
    "collapsed": true
   },
   "outputs": [],
   "source": []
  }
 ],
 "metadata": {
  "kernelspec": {
   "display_name": "Python 2",
   "language": "python",
   "name": "python2"
  },
  "language_info": {
   "codemirror_mode": {
    "name": "ipython",
    "version": 2
   },
   "file_extension": ".py",
   "mimetype": "text/x-python",
   "name": "python",
   "nbconvert_exporter": "python",
   "pygments_lexer": "ipython2",
   "version": "2.7.6"
  }
 },
 "nbformat": 4,
 "nbformat_minor": 0
}
